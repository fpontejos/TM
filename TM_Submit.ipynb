{
 "cells": [
  {
   "cell_type": "markdown",
   "metadata": {},
   "source": [
    "<div class=\"alert alert-block alert-info\">\n",
    "<center><h1>TEXT MINING PROJECT</h1></center>\n",
    "<br>\n",
    "<center>MDSAA 2021/2022</center>\n",
    "<center>\n",
    "Nicola Andreatta (m20211297),\n",
    "Mariana Ferreira (r20181071),\n",
    "Farina Pontejos (m20210649), \n",
    "Joana Tavares (m2021062)\n",
    "</center>"
   ]
  },
  {
   "cell_type": "markdown",
   "metadata": {},
   "source": [
    "**Table of Contents** <br>\n",
    "\n",
    "* [1) Importing Libraries](#importlibraries)\n",
    "* [2) Loading Data](#loadingdata)\n",
    "* [3) Baseline Preprocessing](#preprocessing)\n",
    "* [4) Data Understanding](#understanding)\n",
    "* [5) Modelling](#modelling)\n",
    "    * [5.1) Baseline KNN](#baseknn)\n",
    "    * [5.2) VotingClassifier](#voting)\n",
    "* [6) Results](#results)\n",
    "    * [6.1) Dev Set](#res-dev)\n",
    "    * [6.2) Test Set](#res-test)\n"
   ]
  },
  {
   "cell_type": "markdown",
   "metadata": {
    "id": "WZmrCsQ8ZwMr",
    "tags": []
   },
   "source": [
    "<a class=\"anchor\" id=\"importlibraries\">\n",
    "\n",
    "# 1. Importing Libraries\n",
    "\n",
    "</a>"
   ]
  },
  {
   "cell_type": "code",
   "execution_count": 1,
   "metadata": {
    "id": "yvCHuSjlZ0_b"
   },
   "outputs": [],
   "source": [
    "import numpy as np\n",
    "import pandas as pd\n",
    "import matplotlib.pyplot as plt\n",
    "import seaborn as sns\n",
    "\n",
    "import nltk\n",
    "from nltk.stem import PorterStemmer\n",
    "from nltk.stem import WordNetLemmatizer\n",
    "\n",
    "from sklearn.feature_extraction import text\n",
    "from sklearn.feature_extraction.text import CountVectorizer, TfidfVectorizer, TfidfTransformer\n",
    "from sklearn.metrics.pairwise import cosine_similarity\n",
    "from sklearn.pipeline import Pipeline\n",
    "from sklearn.model_selection import GridSearchCV\n",
    "from sklearn.metrics import classification_report, confusion_matrix, accuracy_score, f1_score, recall_score, precision_score\n",
    "from sklearn.metrics import ConfusionMatrixDisplay\n",
    "\n",
    "from sklearn.naive_bayes import MultinomialNB\n",
    "from sklearn.ensemble import GradientBoostingClassifier\n",
    "from sklearn.svm import SVC\n",
    "from sklearn.neighbors import KNeighborsClassifier\n",
    "from sklearn.linear_model import SGDClassifier, LogisticRegression\n",
    "from sklearn.tree import DecisionTreeClassifier\n",
    "from sklearn.ensemble import VotingClassifier, StackingClassifier, RandomForestClassifier\n",
    "\n",
    "import re"
   ]
  },
  {
   "cell_type": "code",
   "execution_count": 2,
   "metadata": {},
   "outputs": [
    {
     "name": "stdout",
     "output_type": "stream",
     "text": [
      "python version:   3.9.7\n",
      "nltk version:     3.6.7\n",
      "pandas version:   1.3.3\n",
      "numpy version:    1.20.3\n",
      "sklearn version:  1.0.2\n",
      "matplotlib version:   3.4.3\n"
     ]
    }
   ],
   "source": [
    "from sklearn import __version__ as sklearn_version\n",
    "from platform import python_version \n",
    "from matplotlib import __version__ as mp_version\n",
    "\n",
    "print(\"python version:  \", python_version())\n",
    "print(\"nltk version:    \", nltk.__version__)\n",
    "print(\"pandas version:  \", pd.__version__)\n",
    "print(\"numpy version:   \", np.__version__)\n",
    "print(\"sklearn version: \", sklearn_version)\n",
    "print(\"matplotlib version:  \", mp_version)\n"
   ]
  },
  {
   "cell_type": "markdown",
   "metadata": {},
   "source": [
    "Package versions used:\n",
    "\n",
    "```\n",
    "python version:   3.9.7\n",
    "nltk version:     3.6.7\n",
    "pandas version:   1.3.3\n",
    "numpy version:    1.20.3\n",
    "sklearn version:  1.0.2\n",
    "matplotlib version:   3.4.3\n",
    "```"
   ]
  },
  {
   "cell_type": "markdown",
   "metadata": {},
   "source": [
    "## Setting Variables"
   ]
  },
  {
   "cell_type": "code",
   "execution_count": 3,
   "metadata": {},
   "outputs": [],
   "source": [
    "plt.style.use('seaborn-paper')\n",
    "plt.rcParams['figure.dpi'] = 128"
   ]
  },
  {
   "cell_type": "code",
   "execution_count": 4,
   "metadata": {},
   "outputs": [],
   "source": [
    "RANDOM_STATE = 1\n",
    "np.random.seed(RANDOM_STATE)"
   ]
  },
  {
   "cell_type": "markdown",
   "metadata": {
    "id": "vd-rpPT0Xpzv",
    "tags": []
   },
   "source": [
    "<a class=\"anchor\" id=\"loadingdata\">\n",
    "\n",
    "# 2. Loading Data\n",
    "\n",
    "</a>"
   ]
  },
  {
   "cell_type": "code",
   "execution_count": 5,
   "metadata": {
    "colab": {
     "base_uri": "https://localhost:8080/",
     "height": 424
    },
    "id": "mruxJnXsXq81",
    "outputId": "d924d293-698c-40d0-9e84-1ba823f1ca68"
   },
   "outputs": [],
   "source": [
    "url1 = './data/dev_set.txt'\n",
    "dev_set = pd.read_csv(url1, delimiter='\\t')"
   ]
  },
  {
   "cell_type": "code",
   "execution_count": 6,
   "metadata": {
    "colab": {
     "base_uri": "https://localhost:8080/",
     "height": 424
    },
    "id": "t2UuVJwKcS_I",
    "outputId": "87fe4e79-89d6-4c80-8c4b-d28c4fcab652"
   },
   "outputs": [],
   "source": [
    "url2 = './data/training_set.txt'\n",
    "train_set = pd.read_csv(url2, delimiter='\\t')"
   ]
  },
  {
   "cell_type": "code",
   "execution_count": 7,
   "metadata": {},
   "outputs": [],
   "source": [
    "url3 = './data/test_set.txt'\n",
    "test_set = pd.read_csv(url3, delimiter='\\t')"
   ]
  },
  {
   "cell_type": "markdown",
   "metadata": {
    "id": "x3sczNiUUN54"
   },
   "source": [
    "<a class=\"anchor\" id=\"preprocessing\">\n",
    "\n",
    "# 3. Preprocessing\n",
    "\n",
    "</a>"
   ]
  },
  {
   "cell_type": "code",
   "execution_count": 8,
   "metadata": {
    "id": "RZBggjjUSl2S"
   },
   "outputs": [],
   "source": [
    "## Uncomment these on first run\n",
    "#nltk.download('omw-1.4')\n",
    "#nltk.download('averaged_perceptron_tagger')\n"
   ]
  },
  {
   "cell_type": "code",
   "execution_count": 9,
   "metadata": {
    "id": "DUTmmWPRSso8"
   },
   "outputs": [],
   "source": [
    "stop = text.ENGLISH_STOP_WORDS\n",
    "stemmer = PorterStemmer()\n",
    "lemmatizer = WordNetLemmatizer()"
   ]
  },
  {
   "cell_type": "code",
   "execution_count": 10,
   "metadata": {
    "id": "4s69EUrpSwH5"
   },
   "outputs": [],
   "source": [
    "def lemmatize_sentences(sentence):\n",
    "    tokens = sentence.split()\n",
    "    lemmd_tokens = [lemmatizer.lemmatize(token) for token in tokens]\n",
    "    return ' '.join(lemmd_tokens)\n",
    "\n",
    "def text_preprocessing(df_, col):\n",
    "    \n",
    "    df = df_.copy()\n",
    "    df['original'] = df[col]\n",
    "    \"\"\"\n",
    "    Baseline preprocessing: \n",
    "        - lowercase\n",
    "        - remove symbols (keep letters, ?, !)\n",
    "        - remove stop words in pipeline instead of in preprocessing\n",
    "        - use lemmatizing instead of stemming\n",
    "    \"\"\"\n",
    "    keep = ['?', '!']\n",
    "    \n",
    "    ## Lowercase\n",
    "    df[col] = df[col].str.lower()\n",
    "    \n",
    "    ## Remove symbols\n",
    "    df[col] = df[col].apply(lambda x: ''.join([re.sub(r'[\\.;:,\\\"\\'\\/]','',x)]))\n",
    "        \n",
    "    ## Use Lemmatizer\n",
    "    df[col] = df[col].apply(lambda x: lemmatize_sentences(x) )\n",
    "    \n",
    "    ## Remove excess spaces\n",
    "    df[col] = df[col].apply(lambda x: re.sub(' +', ' ', x))\n",
    "    df[col] = df[col].str.strip()\n",
    "    \n",
    "    return df"
   ]
  },
  {
   "cell_type": "code",
   "execution_count": 11,
   "metadata": {
    "colab": {
     "base_uri": "https://localhost:8080/",
     "height": 143
    },
    "id": "Sez3D0PsUwYC",
    "outputId": "b6e926d8-065e-4e61-d3b8-c3c9489f1d31"
   },
   "outputs": [],
   "source": [
    "train_set_prep = text_preprocessing(train_set, 'sentence')"
   ]
  },
  {
   "cell_type": "code",
   "execution_count": 12,
   "metadata": {
    "colab": {
     "base_uri": "https://localhost:8080/",
     "height": 143
    },
    "id": "DNq2X56pUxOB",
    "outputId": "726d1374-8aa6-4c12-c4fa-7bfab87478e3"
   },
   "outputs": [],
   "source": [
    "dev_set_prep = text_preprocessing(dev_set, 'sentence')"
   ]
  },
  {
   "cell_type": "code",
   "execution_count": 13,
   "metadata": {},
   "outputs": [],
   "source": [
    "test_set_prep = text_preprocessing(test_set, 'sentence')"
   ]
  },
  {
   "cell_type": "markdown",
   "metadata": {},
   "source": [
    "<a class=\"anchor\" id=\"understanding\">\n",
    "\n",
    "# 4. Data Understanding\n",
    "\n",
    "</a>"
   ]
  },
  {
   "cell_type": "code",
   "execution_count": null,
   "metadata": {},
   "outputs": [],
   "source": []
  },
  {
   "cell_type": "code",
   "execution_count": 14,
   "metadata": {},
   "outputs": [],
   "source": [
    "labels = {\n",
    "    1: 'Anger',\n",
    "    2: 'Anticipation',\n",
    "    3: 'Digust',\n",
    "    4: 'Fear',\n",
    "    5: 'Joy',\n",
    "    6: 'Sadness',\n",
    "    7: 'Surprise',\n",
    "    8: 'Trust',\n",
    "}"
   ]
  },
  {
   "cell_type": "code",
   "execution_count": null,
   "metadata": {},
   "outputs": [],
   "source": []
  },
  {
   "cell_type": "code",
   "execution_count": 15,
   "metadata": {},
   "outputs": [],
   "source": [
    "X_train = train_set_prep['sentence']\n",
    "Y_train = train_set_prep['emotion']\n",
    "\n",
    "X_dev = dev_set_prep['sentence']\n",
    "Y_dev = dev_set_prep['emotion']\n",
    "\n",
    "X_test = test_set_prep['sentence']"
   ]
  },
  {
   "cell_type": "code",
   "execution_count": null,
   "metadata": {},
   "outputs": [],
   "source": []
  },
  {
   "cell_type": "code",
   "execution_count": null,
   "metadata": {},
   "outputs": [],
   "source": []
  },
  {
   "cell_type": "markdown",
   "metadata": {},
   "source": [
    "<a class=\"anchor\" id=\"modelling\">\n",
    "\n",
    "# 5. Modelling\n",
    "\n",
    "</a>"
   ]
  },
  {
   "cell_type": "code",
   "execution_count": 16,
   "metadata": {},
   "outputs": [],
   "source": [
    "f1labels = [\"F1 \" + labels[i+1] for i in range(len(labels))]\n",
    "rclabels = [\"Recall \" + labels[i+1] for i in range(len(labels))]\n",
    "pclabels = [\"Precision \" + labels[i+1] for i in range(len(labels))]\n",
    "numlabels = [i+1 for i in range(len(labels))]\n"
   ]
  },
  {
   "cell_type": "code",
   "execution_count": 17,
   "metadata": {},
   "outputs": [],
   "source": [
    "def get_scores(preds, label, cv_score, truth=Y_dev):\n",
    "    return pd.DataFrame([[label,\n",
    "               accuracy_score(truth, preds),\n",
    "               recall_score(truth, preds, average='macro'),\n",
    "               precision_score(truth, preds, average='macro'),\n",
    "               f1_score(truth, preds, average='macro', ),\n",
    "               cv_score,\n",
    "               *(f1_score(truth, preds, average=None, labels=numlabels)),\n",
    "               *(recall_score(truth, preds, average=None, labels=numlabels)),\n",
    "               *(precision_score(truth, preds, average=None, labels=numlabels)),\n",
    "            ]],\n",
    "             columns=[\"Model\", \"Accuracy\", \"Recall\", \"Precision\", \"F1\", \"Train Accuracy\", *f1labels, *rclabels, *pclabels ],\n",
    "             index=[label]\n",
    "        )\n",
    "    \n",
    "def print_scores(preds, gs_, Y=Y_dev):\n",
    "    \n",
    "    print(\"Best parameters: \")\n",
    "    print(gs_.best_params_)\n",
    "    print(\"------------------------\")\n",
    "\n",
    "    print(\"Accuracy:         \", round(accuracy_score(Y_dev, preds),4))\n",
    "    print(\"Macro F1:         \", round(f1_score(Y_dev, preds, average='macro'),4))\n",
    "    print(\"Macro Recall:     \", round(recall_score(Y_dev, preds, average='macro'),4))\n",
    "    print(\"Macro Precision:  \", round(precision_score(Y_dev, preds, average='macro'),4))\n",
    "    print(\"Best Train Score: \", round(gs_.best_score_,4))\n",
    "\n",
    "    return\n",
    "\n",
    "def plot_cm(preds, title, Y=Y_dev):\n",
    "    cm_ = confusion_matrix(Y, preds)\n",
    "    df_cm = pd.DataFrame(cm_, index=numlabels, columns=numlabels)\n",
    "    \n",
    "    fig, ax = plt.subplots(figsize=(7,5))\n",
    "    \n",
    "    ax = sns.heatmap(df_cm, annot=True,cmap=\"Blues\", fmt=\"d\")\n",
    "    ax.set_ylabel(\"True Label\")\n",
    "    ax.set_xlabel(\"Predicted Label\")\n",
    "    \n",
    "    plt.title(\"Confusion Matrix: \"+title, fontsize=12)\n",
    "    \n",
    "    \n",
    "    plt.show()\n",
    "    \n",
    "    return\n",
    "\n"
   ]
  },
  {
   "cell_type": "code",
   "execution_count": 18,
   "metadata": {},
   "outputs": [],
   "source": [
    "score_func = 'accuracy'"
   ]
  },
  {
   "cell_type": "markdown",
   "metadata": {
    "tags": []
   },
   "source": [
    "<a class=\"anchor\" id=\"baseknn\">\n",
    "\n",
    "## 5.1. Baseline KNN\n",
    "\n",
    "</a>"
   ]
  },
  {
   "cell_type": "code",
   "execution_count": null,
   "metadata": {},
   "outputs": [],
   "source": []
  },
  {
   "cell_type": "code",
   "execution_count": 19,
   "metadata": {},
   "outputs": [],
   "source": [
    "pipe_knn = Pipeline([\n",
    "    ('count', CountVectorizer()),     # CountVectorizer \n",
    "    ('classifier', KNeighborsClassifier()),  # \n",
    "])\n",
    "\n",
    "grid_knn = {\n",
    "    \"count__ngram_range\": [(1,1)],\n",
    "    \"count__stop_words\": [None],\n",
    "}\n",
    "\n",
    "gs_knn = GridSearchCV(pipe_knn, grid_knn, n_jobs=-1, cv=10, scoring=score_func)\n",
    "gs_knn.fit(X_train, Y_train)\n",
    "gs_knn_pred = gs_knn.predict(X_dev)\n"
   ]
  },
  {
   "cell_type": "code",
   "execution_count": 20,
   "metadata": {},
   "outputs": [
    {
     "name": "stdout",
     "output_type": "stream",
     "text": [
      "Best parameters: \n",
      "{'count__ngram_range': (1, 1), 'count__stop_words': None}\n",
      "------------------------\n",
      "Accuracy:          0.289\n",
      "Macro F1:          0.2271\n",
      "Macro Recall:      0.2322\n",
      "Macro Precision:   0.2582\n",
      "Best Train Score:  0.269\n"
     ]
    },
    {
     "data": {
      "image/png": "[encoded data removed]",
      "text/plain": [
       "<Figure size 896x640 with 2 Axes>"
      ]
     },
     "metadata": {
      "needs_background": "light"
     },
     "output_type": "display_data"
    }
   ],
   "source": [
    "print_scores(gs_knn_pred, gs_knn)\n",
    "scores = get_scores(gs_knn_pred, \"KNN Baseline\", gs_knn.best_score_)\n",
    "plot_cm(gs_knn_pred, \"Baseline\")"
   ]
  },
  {
   "cell_type": "code",
   "execution_count": null,
   "metadata": {},
   "outputs": [],
   "source": []
  },
  {
   "cell_type": "code",
   "execution_count": null,
   "metadata": {},
   "outputs": [],
   "source": []
  },
  {
   "cell_type": "markdown",
   "metadata": {
    "tags": []
   },
   "source": [
    "<a class=\"anchor\" id=\"voting\">\n",
    "\n",
    "## 5.10. Voting Classifier\n",
    "(Using optimized base estimators)\n",
    "\n",
    "</a>"
   ]
  },
  {
   "cell_type": "code",
   "execution_count": 21,
   "metadata": {},
   "outputs": [],
   "source": [
    "vc = VotingClassifier(\n",
    "    estimators=[('lr', LogisticRegression(max_iter=1000, random_state=RANDOM_STATE, solver='lbfgs', multi_class='multinomial')), \n",
    "                ('sg', SGDClassifier(random_state=RANDOM_STATE, loss='log')), \n",
    "                ('nb', MultinomialNB(alpha=.5)),\n",
    "                ('gb', GradientBoostingClassifier(random_state=RANDOM_STATE, loss='deviance', n_estimators=200, learning_rate=.25)),\n",
    "                ('sv', SVC(random_state=RANDOM_STATE, kernel='linear', decision_function_shape='ovo'))\n",
    "               ],\n",
    "    voting='hard'\n",
    ")\n",
    "\n",
    "vc_pipe = Pipeline([\n",
    "        ('count', CountVectorizer()),    \n",
    "        ('vc', vc)\n",
    "    ])\n",
    "\n",
    "\n",
    "grid_vc = {\n",
    "    \"count__ngram_range\": [(1,1)],\n",
    "    \"count__stop_words\": [None]\n",
    "}\n",
    "\n",
    "gs_vc = GridSearchCV(vc_pipe, grid_vc, n_jobs=-1, cv=10, scoring=score_func)\n",
    "\n",
    "gs_vc.fit(X_train, Y_train)\n",
    "gs_vc_pred = gs_vc.predict(X_dev)\n",
    "\n"
   ]
  },
  {
   "cell_type": "code",
   "execution_count": 22,
   "metadata": {},
   "outputs": [
    {
     "name": "stdout",
     "output_type": "stream",
     "text": [
      "Best parameters: \n",
      "{'count__ngram_range': (1, 1), 'count__stop_words': None}\n",
      "------------------------\n",
      "Accuracy:          0.389\n",
      "Macro F1:          0.358\n",
      "Macro Recall:      0.3504\n",
      "Macro Precision:   0.3868\n",
      "Best Train Score:  0.3828\n"
     ]
    }
   ],
   "source": [
    "print_scores(gs_vc_pred, gs_vc)\n",
    "get_scores(gs_vc_pred, \"VotingClassifier\", gs_vc.best_score_)\n",
    "\n",
    "scores = pd.concat([scores,get_scores(gs_vc_pred, \"VotingClassifier\", gs_vc.best_score_)])\n"
   ]
  },
  {
   "cell_type": "code",
   "execution_count": 23,
   "metadata": {},
   "outputs": [
    {
     "data": {
      "image/png": "[encoded data removed]",
      "text/plain": [
       "<Figure size 896x640 with 2 Axes>"
      ]
     },
     "metadata": {
      "needs_background": "light"
     },
     "output_type": "display_data"
    }
   ],
   "source": [
    "plot_cm(gs_vc_pred, \"VotingClassifier\")"
   ]
  },
  {
   "cell_type": "code",
   "execution_count": null,
   "metadata": {},
   "outputs": [],
   "source": []
  },
  {
   "cell_type": "code",
   "execution_count": null,
   "metadata": {},
   "outputs": [],
   "source": []
  },
  {
   "cell_type": "markdown",
   "metadata": {},
   "source": [
    "<a class=\"anchor\" id=\"results\">\n",
    "\n",
    "# 6. Results\n",
    "\n",
    "</a>"
   ]
  },
  {
   "cell_type": "markdown",
   "metadata": {},
   "source": [
    "<a class=\"anchor\" id=\"res-dev\">\n",
    "\n",
    "# 6.1. Dev Set\n",
    "\n",
    "</a>"
   ]
  },
  {
   "cell_type": "code",
   "execution_count": 24,
   "metadata": {},
   "outputs": [],
   "source": [
    "dev_set_results = dev_set_prep[['original']].copy()"
   ]
  },
  {
   "cell_type": "code",
   "execution_count": 25,
   "metadata": {},
   "outputs": [
    {
     "data": {
      "text/html": [
       "<div>\n",
       "<style scoped>\n",
       "    .dataframe tbody tr th:only-of-type {\n",
       "        vertical-align: middle;\n",
       "    }\n",
       "\n",
       "    .dataframe tbody tr th {\n",
       "        vertical-align: top;\n",
       "    }\n",
       "\n",
       "    .dataframe thead th {\n",
       "        text-align: right;\n",
       "    }\n",
       "</style>\n",
       "<table border=\"1\" class=\"dataframe\">\n",
       "  <thead>\n",
       "    <tr style=\"text-align: right;\">\n",
       "      <th></th>\n",
       "      <th>original</th>\n",
       "    </tr>\n",
       "  </thead>\n",
       "  <tbody>\n",
       "    <tr>\n",
       "      <th>0</th>\n",
       "      <td>What happens to the gold in our safe ?</td>\n",
       "    </tr>\n",
       "    <tr>\n",
       "      <th>1</th>\n",
       "      <td>Natural to get cold feet .</td>\n",
       "    </tr>\n",
       "    <tr>\n",
       "      <th>2</th>\n",
       "      <td>Not very lucky , is he ?</td>\n",
       "    </tr>\n",
       "    <tr>\n",
       "      <th>3</th>\n",
       "      <td>I'm just a little anxious to get up there and ...</td>\n",
       "    </tr>\n",
       "    <tr>\n",
       "      <th>4</th>\n",
       "      <td>Did you think we don't know about your affair ...</td>\n",
       "    </tr>\n",
       "    <tr>\n",
       "      <th>...</th>\n",
       "      <td>...</td>\n",
       "    </tr>\n",
       "    <tr>\n",
       "      <th>995</th>\n",
       "      <td>All I ask of you is be careful .</td>\n",
       "    </tr>\n",
       "    <tr>\n",
       "      <th>996</th>\n",
       "      <td>You don't like jazz , pal ?</td>\n",
       "    </tr>\n",
       "    <tr>\n",
       "      <th>997</th>\n",
       "      <td>Put it on .</td>\n",
       "    </tr>\n",
       "    <tr>\n",
       "      <th>998</th>\n",
       "      <td>Can you ever imagine [PERSON] being in a spot ...</td>\n",
       "    </tr>\n",
       "    <tr>\n",
       "      <th>999</th>\n",
       "      <td>You think top gun up there will be able to tel...</td>\n",
       "    </tr>\n",
       "  </tbody>\n",
       "</table>\n",
       "<p>1000 rows × 1 columns</p>\n",
       "</div>"
      ],
      "text/plain": [
       "                                              original\n",
       "0               What happens to the gold in our safe ?\n",
       "1                           Natural to get cold feet .\n",
       "2                             Not very lucky , is he ?\n",
       "3    I'm just a little anxious to get up there and ...\n",
       "4    Did you think we don't know about your affair ...\n",
       "..                                                 ...\n",
       "995                   All I ask of you is be careful .\n",
       "996                        You don't like jazz , pal ?\n",
       "997                                        Put it on .\n",
       "998  Can you ever imagine [PERSON] being in a spot ...\n",
       "999  You think top gun up there will be able to tel...\n",
       "\n",
       "[1000 rows x 1 columns]"
      ]
     },
     "execution_count": 25,
     "metadata": {},
     "output_type": "execute_result"
    }
   ],
   "source": [
    "dev_set_results"
   ]
  },
  {
   "cell_type": "code",
   "execution_count": 26,
   "metadata": {},
   "outputs": [],
   "source": [
    "dev_set_results['emotion'] = gs_vc.predict(dev_set_prep['sentence'])"
   ]
  },
  {
   "cell_type": "code",
   "execution_count": 27,
   "metadata": {},
   "outputs": [
    {
     "data": {
      "text/html": [
       "<div>\n",
       "<style scoped>\n",
       "    .dataframe tbody tr th:only-of-type {\n",
       "        vertical-align: middle;\n",
       "    }\n",
       "\n",
       "    .dataframe tbody tr th {\n",
       "        vertical-align: top;\n",
       "    }\n",
       "\n",
       "    .dataframe thead th {\n",
       "        text-align: right;\n",
       "    }\n",
       "</style>\n",
       "<table border=\"1\" class=\"dataframe\">\n",
       "  <thead>\n",
       "    <tr style=\"text-align: right;\">\n",
       "      <th></th>\n",
       "      <th>sentence</th>\n",
       "      <th>emotion</th>\n",
       "    </tr>\n",
       "  </thead>\n",
       "  <tbody>\n",
       "    <tr>\n",
       "      <th>0</th>\n",
       "      <td>What happens to the gold in our safe ?</td>\n",
       "      <td>2</td>\n",
       "    </tr>\n",
       "    <tr>\n",
       "      <th>1</th>\n",
       "      <td>Natural to get cold feet .</td>\n",
       "      <td>1</td>\n",
       "    </tr>\n",
       "    <tr>\n",
       "      <th>2</th>\n",
       "      <td>Not very lucky , is he ?</td>\n",
       "      <td>5</td>\n",
       "    </tr>\n",
       "    <tr>\n",
       "      <th>3</th>\n",
       "      <td>I'm just a little anxious to get up there and ...</td>\n",
       "      <td>1</td>\n",
       "    </tr>\n",
       "    <tr>\n",
       "      <th>4</th>\n",
       "      <td>Did you think we don't know about your affair ...</td>\n",
       "      <td>1</td>\n",
       "    </tr>\n",
       "    <tr>\n",
       "      <th>...</th>\n",
       "      <td>...</td>\n",
       "      <td>...</td>\n",
       "    </tr>\n",
       "    <tr>\n",
       "      <th>995</th>\n",
       "      <td>All I ask of you is be careful .</td>\n",
       "      <td>4</td>\n",
       "    </tr>\n",
       "    <tr>\n",
       "      <th>996</th>\n",
       "      <td>You don't like jazz , pal ?</td>\n",
       "      <td>3</td>\n",
       "    </tr>\n",
       "    <tr>\n",
       "      <th>997</th>\n",
       "      <td>Put it on .</td>\n",
       "      <td>1</td>\n",
       "    </tr>\n",
       "    <tr>\n",
       "      <th>998</th>\n",
       "      <td>Can you ever imagine [PERSON] being in a spot ...</td>\n",
       "      <td>5</td>\n",
       "    </tr>\n",
       "    <tr>\n",
       "      <th>999</th>\n",
       "      <td>You think top gun up there will be able to tel...</td>\n",
       "      <td>4</td>\n",
       "    </tr>\n",
       "  </tbody>\n",
       "</table>\n",
       "<p>1000 rows × 2 columns</p>\n",
       "</div>"
      ],
      "text/plain": [
       "                                              sentence  emotion\n",
       "0               What happens to the gold in our safe ?        2\n",
       "1                           Natural to get cold feet .        1\n",
       "2                             Not very lucky , is he ?        5\n",
       "3    I'm just a little anxious to get up there and ...        1\n",
       "4    Did you think we don't know about your affair ...        1\n",
       "..                                                 ...      ...\n",
       "995                   All I ask of you is be careful .        4\n",
       "996                        You don't like jazz , pal ?        3\n",
       "997                                        Put it on .        1\n",
       "998  Can you ever imagine [PERSON] being in a spot ...        5\n",
       "999  You think top gun up there will be able to tel...        4\n",
       "\n",
       "[1000 rows x 2 columns]"
      ]
     },
     "execution_count": 27,
     "metadata": {},
     "output_type": "execute_result"
    }
   ],
   "source": [
    "dev_set_results = dev_set_results.rename(columns={'original':'sentence'})\n",
    "dev_set_results"
   ]
  },
  {
   "cell_type": "code",
   "execution_count": 28,
   "metadata": {},
   "outputs": [],
   "source": [
    "dev_res_url = './dev_results.txt'\n",
    "dev_set_results.to_csv(dev_res_url, sep='\\t', index = False)"
   ]
  },
  {
   "cell_type": "markdown",
   "metadata": {},
   "source": [
    "<a class=\"anchor\" id=\"res-test\">\n",
    "\n",
    "# 6.2. Test Set\n",
    "\n",
    "</a>"
   ]
  },
  {
   "cell_type": "code",
   "execution_count": 29,
   "metadata": {},
   "outputs": [],
   "source": [
    "test_set_prep['emotion'] = gs_vc.predict(test_set_prep['sentence'])"
   ]
  },
  {
   "cell_type": "code",
   "execution_count": 30,
   "metadata": {},
   "outputs": [],
   "source": [
    "test_set_results = test_set_prep.drop(columns=['sentence']).rename(columns={'original':'sentence'})"
   ]
  },
  {
   "cell_type": "code",
   "execution_count": 31,
   "metadata": {},
   "outputs": [],
   "source": [
    "test_res_url = './test_results.txt'\n",
    "test_set_results.to_csv(test_res_url, sep='\\t', index = False)"
   ]
  },
  {
   "cell_type": "code",
   "execution_count": null,
   "metadata": {},
   "outputs": [],
   "source": []
  },
  {
   "cell_type": "markdown",
   "metadata": {},
   "source": [
    "---\n",
    "\n",
    "*end*"
   ]
  }
 ],
 "metadata": {
  "colab": {
   "name": "Text Mining Project.ipynb",
   "provenance": [],
   "toc_visible": true
  },
  "kernelspec": {
   "display_name": "Python 3 (ipykernel)",
   "language": "python",
   "name": "python3"
  },
  "language_info": {
   "codemirror_mode": {
    "name": "ipython",
    "version": 3
   },
   "file_extension": ".py",
   "mimetype": "text/x-python",
   "name": "python",
   "nbconvert_exporter": "python",
   "pygments_lexer": "ipython3",
   "version": "3.9.7"
  }
 },
 "nbformat": 4,
 "nbformat_minor": 4
}
